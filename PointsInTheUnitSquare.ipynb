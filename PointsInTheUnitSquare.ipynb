{
 "cells": [
  {
   "cell_type": "code",
   "execution_count": 2,
   "metadata": {},
   "outputs": [],
   "source": [
    "import numpy as np\n",
    "import matplotlib.pyplot as plt"
   ]
  },
  {
   "cell_type": "code",
   "execution_count": 3,
   "metadata": {},
   "outputs": [],
   "source": [
    "%matplotlib qt"
   ]
  },
  {
   "cell_type": "code",
   "execution_count": 4,
   "metadata": {},
   "outputs": [],
   "source": [
    "MAX_ATTEMPTS = 500"
   ]
  },
  {
   "cell_type": "code",
   "execution_count": 9,
   "metadata": {},
   "outputs": [],
   "source": [
    "def get_circ_rad(square_size, point_count, acc):\n",
    "    # Generate numpy array of random coordinate pairs with a range of 0 -> square_size\n",
    "    random_points = np.random.rand(point_count, 2) * square_size\n",
    "    center = square_size / 2       # Center coordinate is half of square size (x and y are equal)\n",
    "    circ_rad = square_size / 4     # Circle radius begins at 1 quarter of the square size\n",
    "    \n",
    "    # High limit for radius begins at half square size, bottom begins at 0\n",
    "    top_rad, bot_rad = square_size / 2, 0\n",
    "    \n",
    "    # Begin at 0 attempts and not done\n",
    "    attempt, done = 0, False\n",
    "    \n",
    "    # Loop until done or we've reached max attempts\n",
    "    while(not done and attempt < MAX_ATTEMPTS):\n",
    "        # Lists of inside distances to center and outside distances to square\n",
    "        inside_dist, inside = [], []\n",
    "        outside_dist, outside = [], []\n",
    "        # Loop through all generated random points\n",
    "        for point in random_points:\n",
    "            \n",
    "            # Calculate the distance to the center to check if point is in circle\n",
    "            to_center = ((point[0] - center)**2 + (point[1] - center)**2)**0.5\n",
    "            if(to_center < circ_rad):\n",
    "                # In circle, save distance to center\n",
    "                inside.append([point[0], point[1]])\n",
    "                inside_dist.append(to_center)\n",
    "            else:\n",
    "                # Not in circle, save distance to square edge\n",
    "                outside.append([point[0], point[1]])\n",
    "                outside_dist.append(min(square_size - point[0], point[0], square_size - point[1], point[1]))\n",
    "        \n",
    "        # Calculate averages\n",
    "        avg_in = np.average(inside_dist)\n",
    "        avg_out = np.average(outside_dist)\n",
    "        \n",
    "        # Stop if difference between averages is less than accuracy threshold\n",
    "        # or if difference between top and bottom limits is less than half accuracy threshold\n",
    "        if(abs(avg_in - avg_out) < acc or abs(top_rad - bot_rad) < acc / 2):\n",
    "            done = True\n",
    "        elif(avg_in > avg_out):\n",
    "            # Too big, set top limit and move radius halfway toward bottom limit\n",
    "            top_rad = circ_rad\n",
    "            circ_rad -= abs(circ_rad - bot_rad) / 2\n",
    "        else:\n",
    "            # Too small, set bottom limit and move radius halfway toward top limit\n",
    "            bot_rad = circ_rad\n",
    "            circ_rad += abs(top_rad - circ_rad) / 2\n",
    "        attempt += 1    # Increment number of attempts\n",
    "        print(\"\\rAttempt: {} | Radius: {:2.8f} | Difference: {:2.8f} | Top: {:2.8f} | Bottom: {:2.8f}\"\n",
    "              .format(attempt, circ_rad, abs(avg_in - avg_out), top_rad, bot_rad), end='', flush=True)\n",
    "    \n",
    "    plt.figure(figsize=(6, 6))\n",
    "    inside, outside = np.array(inside), np.array(outside)\n",
    "    plt.scatter(inside[:, 0], inside[:, 1], s=1, color='blue')\n",
    "    plt.scatter(outside[:, 0], outside[:, 1], s=1, color='orange')\n",
    "    ax = plt.gca()\n",
    "    ax.add_artist(plt.Circle((center, center), circ_rad, fill=False))\n",
    "    plt.xlim([0, square_size])\n",
    "    plt.ylim([0, square_size])\n",
    "    \n",
    "    return circ_rad"
   ]
  },
  {
   "cell_type": "code",
   "execution_count": 12,
   "metadata": {},
   "outputs": [
    {
     "name": "stdout",
     "output_type": "stream",
     "text": [
      "Attempt: 5 | Radius: 0.20312500 | Difference: 0.00013606 | Top: 0.21875000 | Bottom: 0.18750000"
     ]
    },
    {
     "data": {
      "text/plain": [
       "0.203125"
      ]
     },
     "execution_count": 12,
     "metadata": {},
     "output_type": "execute_result"
    }
   ],
   "source": [
    "get_circ_rad(1, 10000, 0.001)"
   ]
  },
  {
   "cell_type": "code",
   "execution_count": null,
   "metadata": {},
   "outputs": [],
   "source": []
  }
 ],
 "metadata": {
  "kernelspec": {
   "display_name": "Python 3",
   "language": "python",
   "name": "python3"
  },
  "language_info": {
   "codemirror_mode": {
    "name": "ipython",
    "version": 3
   },
   "file_extension": ".py",
   "mimetype": "text/x-python",
   "name": "python",
   "nbconvert_exporter": "python",
   "pygments_lexer": "ipython3",
   "version": "3.8.3"
  }
 },
 "nbformat": 4,
 "nbformat_minor": 4
}
